{
  "cells": [
    {
      "cell_type": "markdown",
      "metadata": {
        "id": "view-in-github",
        "colab_type": "text"
      },
      "source": [
        "<a href=\"https://colab.research.google.com/github/Akshay-s-kumar/3d-cnn-brain-tumor-segmentation/blob/main/LOad_Data.ipynb\" target=\"_parent\"><img src=\"https://colab.research.google.com/assets/colab-badge.svg\" alt=\"Open In Colab\"/></a>"
      ]
    },
    {
      "cell_type": "code",
      "execution_count": null,
      "metadata": {
        "colab": {
          "base_uri": "https://localhost:8080/"
        },
        "id": "OXLj3Il2V_av",
        "outputId": "19a491b6-7882-40fe-9523-53f4cc64734d"
      },
      "outputs": [
        {
          "output_type": "stream",
          "name": "stdout",
          "text": [
            "Mounted at /content/drive\n"
          ]
        }
      ],
      "source": [
        "# prompt: mount drive\n",
        "\n",
        "from google.colab import drive\n",
        "drive.mount('/content/drive')\n"
      ]
    },
    {
      "cell_type": "markdown",
      "metadata": {
        "id": "vnrbMPNRhDDB"
      },
      "source": [
        "third"
      ]
    },
    {
      "cell_type": "code",
      "source": [
        "import tensorflow as tf\n",
        "from tensorflow.keras import layers\n",
        "import pandas as pd\n",
        "import numpy as np\n",
        "import nibabel as nib\n",
        "from scipy.ndimage import zoom\n",
        "\n",
        "# Load train dataset\n",
        "train_df = pd.read_csv(\"/content/drive/MyDrive/Brain Tumor Files/train.csv\")\n",
        "train_data_paths = train_df.iloc[:, 1:5].values.tolist()\n",
        "train_mask_paths = train_df.iloc[:, 5].tolist()\n",
        "\n",
        "test_df = pd.read_csv(\"/content/drive/MyDrive/Brain Tumor Files/test.csv\")\n",
        "test_data_paths = test_df.iloc[:, 1:5].values.tolist()\n",
        "test_mask_paths = test_df.iloc[:, 5].tolist()\n",
        "\n",
        "val_df = pd.read_csv(\"/content/drive/MyDrive/Brain Tumor Files/val.csv\")\n",
        "val_data_paths = val_df.iloc[:, 1:5].values.tolist()\n",
        "val_mask_paths = val_df.iloc[:, 5].tolist()\n",
        "\n",
        "IMG_SHAPE = (128, 128, 40, 4)\n",
        "MASK_SHAPE = (128, 128, 40)\n",
        "\n",
        "def load_nifti(path):\n",
        "    path = path.decode('utf-8')\n",
        "    img = nib.load(path).get_fdata()\n",
        "    return np.array(img, dtype=np.float32)\n",
        "\n",
        "def resize_volume(img, target_shape=IMG_SHAPE):\n",
        "    factors = [target / img_dim for target, img_dim in zip(target_shape, img.shape)]\n",
        "    return zoom(img, factors)\n",
        "\n",
        "def resize_mask(mask, target_shape=MASK_SHAPE):\n",
        "    factors = [target / img_dim for target, img_dim in zip(target_shape, mask.shape)]\n",
        "    return zoom(mask, factors, order=0)\n",
        "\n",
        "def load_and_preprocess_image(file_paths):\n",
        "    images = [load_nifti(path) for path in file_paths]\n",
        "    stacked_image = np.stack(images, axis=-1)\n",
        "    stacked_image = stacked_image[:, :, 80:120, :]\n",
        "    stacked_image = resize_volume(stacked_image)\n",
        "    return stacked_image\n",
        "\n",
        "def load_and_preprocess_mask(mask_path):\n",
        "    mask = load_nifti(mask_path)\n",
        "    mask = mask[:, :, 80:120]\n",
        "    mask = resize_mask(mask)\n",
        "    return mask\n",
        "\n",
        "def ensure_image_shape(image):\n",
        "    image.set_shape(IMG_SHAPE)\n",
        "    return image\n",
        "\n",
        "def ensure_mask_shape(mask):\n",
        "    mask.set_shape(MASK_SHAPE)\n",
        "    return mask\n",
        "\n",
        "# Create train dataset (images)\n",
        "train_dataset = tf.data.Dataset.from_tensor_slices(train_data_paths)\n",
        "train_dataset = train_dataset.map(lambda x: tf.numpy_function(func=load_and_preprocess_image, inp=[x], Tout=tf.float32), num_parallel_calls=tf.data.AUTOTUNE)\n",
        "train_dataset = train_dataset.prefetch(tf.data.AUTOTUNE)\n",
        "train_dataset = train_dataset.map(ensure_image_shape)\n",
        "train_dataset = train_dataset.batch(1)\n",
        "\n",
        "# Create train labels dataset (masks)\n",
        "train_mask_dataset = tf.data.Dataset.from_tensor_slices(train_mask_paths)\n",
        "train_mask_dataset = train_mask_dataset.map(lambda x: tf.numpy_function(func=load_and_preprocess_mask, inp=[x], Tout=tf.float32), num_parallel_calls=tf.data.AUTOTUNE)\n",
        "train_mask_dataset = train_mask_dataset.prefetch(tf.data.AUTOTUNE)\n",
        "train_mask_dataset = train_mask_dataset.map(ensure_mask_shape)\n",
        "train_mask_dataset = train_mask_dataset.batch(1)\n",
        "\n",
        "# Create test dataset (images)\n",
        "test_dataset = tf.data.Dataset.from_tensor_slices(test_data_paths)\n",
        "test_dataset = test_dataset.map(lambda x: tf.numpy_function(func=load_and_preprocess_image, inp=[x], Tout=tf.float32), num_parallel_calls=tf.data.AUTOTUNE)\n",
        "test_dataset = test_dataset.prefetch(tf.data.AUTOTUNE)\n",
        "test_dataset = test_dataset.map(ensure_image_shape)\n",
        "test_dataset = test_dataset.batch(1)\n",
        "\n",
        "# Create test labels dataset (masks)\n",
        "test_mask_dataset = tf.data.Dataset.from_tensor_slices(test_mask_paths)\n",
        "test_mask_dataset = test_mask_dataset.map(lambda x: tf.numpy_function(func=load_and_preprocess_mask, inp=[x], Tout=tf.float32), num_parallel_calls=tf.data.AUTOTUNE)\n",
        "test_mask_dataset = test_mask_dataset.prefetch(tf.data.AUTOTUNE)\n",
        "test_mask_dataset = test_mask_dataset.map(ensure_mask_shape)\n",
        "test_mask_dataset = test_mask_dataset.batch(1)\n",
        "\n",
        "# Create validation dataset (images)\n",
        "val_dataset = tf.data.Dataset.from_tensor_slices(val_data_paths)\n",
        "val_dataset = val_dataset.map(lambda x: tf.numpy_function(func=load_and_preprocess_image, inp=[x], Tout=tf.float32), num_parallel_calls=tf.data.AUTOTUNE)\n",
        "val_dataset = val_dataset.prefetch(tf.data.AUTOTUNE)\n",
        "val_dataset = val_dataset.map(ensure_image_shape)\n",
        "val_dataset = val_dataset.batch(1)\n",
        "\n",
        "# Create validation labels dataset (masks)\n",
        "val_mask_dataset = tf.data.Dataset.from_tensor_slices(val_mask_paths)\n",
        "val_mask_dataset = val_mask_dataset.map(lambda x: tf.numpy_function(func=load_and_preprocess_mask, inp=[x], Tout=tf.float32), num_parallel_calls=tf.data.AUTOTUNE)\n",
        "val_mask_dataset = val_mask_dataset.prefetch(tf.data.AUTOTUNE)\n",
        "val_mask_dataset = val_mask_dataset.map(ensure_mask_shape)\n",
        "val_mask_dataset = val_mask_dataset.batch(1)\n"
      ],
      "metadata": {
        "id": "n6wRviDAizcH"
      },
      "execution_count": null,
      "outputs": []
    },
    {
      "cell_type": "code",
      "source": [],
      "metadata": {
        "id": "vSce7M_2RWA5"
      },
      "execution_count": null,
      "outputs": []
    }
  ],
  "metadata": {
    "colab": {
      "provenance": [],
      "authorship_tag": "ABX9TyNUEavkSxNHxbAJVz0I+LmW",
      "include_colab_link": true
    },
    "kernelspec": {
      "display_name": "Python 3",
      "name": "python3"
    },
    "language_info": {
      "name": "python"
    }
  },
  "nbformat": 4,
  "nbformat_minor": 0
}